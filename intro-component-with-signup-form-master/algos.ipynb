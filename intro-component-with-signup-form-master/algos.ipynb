{
 "cells": [
  {
   "cell_type": "code",
   "execution_count": 3,
   "metadata": {},
   "outputs": [],
   "source": [
    "def factorial(n):\n",
    "    fact = 1\n",
    "    if n==0:\n",
    "        return fact\n",
    "\n",
    "    for i in range(1,n+1):\n",
    "        fact = fact*i\n",
    "\n",
    "    return fact"
   ]
  },
  {
   "cell_type": "code",
   "execution_count": 4,
   "metadata": {},
   "outputs": [
    {
     "data": {
      "text/plain": [
       "120"
      ]
     },
     "execution_count": 4,
     "metadata": {},
     "output_type": "execute_result"
    }
   ],
   "source": [
    "factorial(5)"
   ]
  },
  {
   "cell_type": "code",
   "execution_count": 5,
   "metadata": {},
   "outputs": [],
   "source": [
    "def Comb(n,spaces):\n",
    "    numerator= factorial(n)\n",
    "    denominator = factorial(n-spaces)*factorial(spaces)\n",
    "\n",
    "    return numerator/denominator"
   ]
  },
  {
   "cell_type": "code",
   "execution_count": 6,
   "metadata": {},
   "outputs": [
    {
     "data": {
      "text/plain": [
       "84.0"
      ]
     },
     "execution_count": 6,
     "metadata": {},
     "output_type": "execute_result"
    }
   ],
   "source": [
    "Comb(9,6)"
   ]
  },
  {
   "cell_type": "code",
   "execution_count": 25,
   "metadata": {},
   "outputs": [],
   "source": [
    "def Pascal_combs(filas):\n",
    "    if filas == 1 or filas == 0 :\n",
    "        print([1])\n",
    "        return\n",
    "    print([1])\n",
    "    items = 1\n",
    "    for i in range(1,filas):\n",
    "        row = []\n",
    "        for k in range(0,items+1):\n",
    "            row.append(Comb(i,k))\n",
    "\n",
    "        items +=1 \n",
    "        print(row)"
   ]
  },
  {
   "cell_type": "code",
   "execution_count": null,
   "metadata": {},
   "outputs": [],
   "source": [
    "Pascal_combs(15)"
   ]
  },
  {
   "cell_type": "code",
   "execution_count": 1,
   "metadata": {},
   "outputs": [],
   "source": [
    "def Selection(lista):\n",
    "    stop = len(lista)\n",
    "    for i in range(stop):\n",
    "        minN = lista[i]\n",
    "        for k in range(i,stop):\n",
    "            if lista[k] <= minN:\n",
    "                aux = lista[i]\n",
    "                lista[i] = lista[k]\n",
    "                lista[k] = aux\n",
    "                minN = lista[i]\n",
    "\n",
    "    return lista"
   ]
  },
  {
   "cell_type": "code",
   "execution_count": 3,
   "metadata": {},
   "outputs": [
    {
     "data": {
      "text/plain": [
       "[0, 1, 2, 3, 5, 6, 9]"
      ]
     },
     "execution_count": 3,
     "metadata": {},
     "output_type": "execute_result"
    }
   ],
   "source": [
    "Selection([5,2,6,3,1,9,0])"
   ]
  },
  {
   "cell_type": "code",
   "execution_count": 11,
   "metadata": {},
   "outputs": [],
   "source": [
    "def Bubble(lista):\n",
    "    stop = len(lista)\n",
    "    is_sorted = False\n",
    "\n",
    "    while not is_sorted:\n",
    "        sorts = 0\n",
    "        for k in range(stop-1):\n",
    "            if lista[k] >= lista[k+1]:\n",
    "                aux = lista[k]\n",
    "                lista[k] = lista[k+1]\n",
    "                lista[k+1] = aux\n",
    "\n",
    "                sorts += 1 \n",
    "\n",
    "        is_sorted = True if sorts == 0 else False \n",
    "\n",
    "    return lista"
   ]
  },
  {
   "cell_type": "code",
   "execution_count": null,
   "metadata": {},
   "outputs": [],
   "source": [
    "def Insertion(lista):\n",
    "    stop = len(lista)\n",
    "    for i in range(stop):\n",
    "        k = i-1\n",
    "        idx = i\n",
    "        while k > 0:\n",
    "            if lista[i] <= lista[k]:\n",
    "                idx = k\n",
    "                k -= 1\n",
    "        \n",
    "        aux = lista[i]\n",
    "        lista"
   ]
  }
 ],
 "metadata": {
  "kernelspec": {
   "display_name": "Python 3.9.9 64-bit",
   "language": "python",
   "name": "python3"
  },
  "language_info": {
   "codemirror_mode": {
    "name": "ipython",
    "version": 3
   },
   "file_extension": ".py",
   "mimetype": "text/x-python",
   "name": "python",
   "nbconvert_exporter": "python",
   "pygments_lexer": "ipython3",
   "version": "3.9.9"
  },
  "orig_nbformat": 4,
  "vscode": {
   "interpreter": {
    "hash": "9f9cbc0abe9c8ce600d26dfa2c2cdd5d6eabdca013f89dbbf3d342b4c457c43c"
   }
  }
 },
 "nbformat": 4,
 "nbformat_minor": 2
}
